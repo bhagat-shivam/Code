{
 "cells": [
  {
   "cell_type": "code",
   "execution_count": 6,
   "metadata": {},
   "outputs": [
    {
     "name": "stdout",
     "output_type": "stream",
     "text": [
      "4\n",
      "[1, 2, 3]\n",
      "IndexError\n"
     ]
    }
   ],
   "source": [
    "try:\n",
    "    print(int(input())+int(input()))\n",
    "    l = [1,2,3]\n",
    "    print(l)\n",
    "    print(l[3])\n",
    "except ValueError:\n",
    "    print('ValueError')\n",
    "except IndexError:\n",
    "    print('IndexError')\n",
    "    "
   ]
  },
  {
   "cell_type": "code",
   "execution_count": 12,
   "metadata": {},
   "outputs": [
    {
     "name": "stdout",
     "output_type": "stream",
     "text": [
      "1\n",
      "ValueError inside 2nd try\n"
     ]
    }
   ],
   "source": [
    "try:\n",
    "    print(int(input()))\n",
    "    try:\n",
    "        print(float(input()))\n",
    "    except ValueError:\n",
    "        print(\"ValueError inside 2nd try\")\n",
    "except ValueError:\n",
    "    print(\"ValueError inside 1st Try\")"
   ]
  },
  {
   "cell_type": "code",
   "execution_count": 16,
   "metadata": {},
   "outputs": [
    {
     "name": "stdout",
     "output_type": "stream",
     "text": [
      "Int Conversion faliure\n",
      "Float Conversion faliure\n"
     ]
    }
   ],
   "source": [
    "try:\n",
    "    n = input()\n",
    "    n1 = int(n)\n",
    "    print(n1)\n",
    "except ValueError:\n",
    "    print(\"Int Conversion faliure\")\n",
    "    try:\n",
    "        n2 = float(n)\n",
    "        print(n2)\n",
    "    except ValueError:\n",
    "        print(\"Float Conversion faliure\")"
   ]
  },
  {
   "cell_type": "code",
   "execution_count": 5,
   "metadata": {},
   "outputs": [
    {
     "name": "stdout",
     "output_type": "stream",
     "text": [
      "unsupported operand type(s) for +: 'int' and 'str'\n"
     ]
    }
   ],
   "source": [
    "x = 5\n",
    "y = 'hello'\n",
    "try:\n",
    "    z = x+y\n",
    "except Exception  as e:\n",
    "    print(e)"
   ]
  },
  {
   "cell_type": "code",
   "execution_count": 7,
   "metadata": {},
   "outputs": [
    {
     "name": "stdout",
     "output_type": "stream",
     "text": [
      "unsupported operand type(s) for +: 'int' and 'str'\n",
      "<class 'TypeError'>\n"
     ]
    }
   ],
   "source": [
    "import traceback\n",
    "x = 5\n",
    "y = 'hello'\n",
    "try:\n",
    "    z = x+y\n",
    "except Exception  as e:\n",
    "    print(e)\n",
    "    #traceback.print_exc()\n",
    "    print(type(e))"
   ]
  },
  {
   "cell_type": "code",
   "execution_count": 12,
   "metadata": {},
   "outputs": [
    {
     "name": "stdout",
     "output_type": "stream",
     "text": [
      "division by zero\n",
      "Error 2\n"
     ]
    }
   ],
   "source": [
    "try:\n",
    "    print(10/0)\n",
    "except ArithmeticError as e:\n",
    "    print(e)\n",
    "    print(\"Error 2\")\n",
    "except ZeroDivisionError as e:\n",
    "    print(\"Error 1\")\n",
    "    print(e)\n"
   ]
  },
  {
   "cell_type": "code",
   "execution_count": 13,
   "metadata": {},
   "outputs": [
    {
     "name": "stdout",
     "output_type": "stream",
     "text": [
      "Error 1\n",
      "division by zero\n"
     ]
    }
   ],
   "source": [
    "try:\n",
    "    print(10/0)\n",
    "except ValueError as e:\n",
    "    print(e)\n",
    "    print(\"Error 2\")\n",
    "except ZeroDivisionError as e:\n",
    "    print(\"Error 1\")\n",
    "    print(e)\n"
   ]
  },
  {
   "cell_type": "code",
   "execution_count": 21,
   "metadata": {},
   "outputs": [
    {
     "name": "stdout",
     "output_type": "stream",
     "text": [
      "0.011363636363636364\n"
     ]
    }
   ],
   "source": [
    "try:\n",
    "    num = int(input())\n",
    "    assert num%2 == 0\n",
    "except:\n",
    "    print('Not an even Number')\n",
    "else:\n",
    "    reciprocal = 1/num\n",
    "    print(reciprocal)"
   ]
  },
  {
   "cell_type": "code",
   "execution_count": 23,
   "metadata": {},
   "outputs": [
    {
     "name": "stdout",
     "output_type": "stream",
     "text": [
      "Error!\n",
      "invalid literal for int() with base 10: 'a'\n"
     ]
    }
   ],
   "source": [
    "try:\n",
    "    n = int(input()) #ValueError\n",
    "    print(n)\n",
    "except ValueError as e:\n",
    "    print(\"Error!\")\n",
    "    print(e)"
   ]
  },
  {
   "cell_type": "code",
   "execution_count": 5,
   "metadata": {},
   "outputs": [
    {
     "name": "stdout",
     "output_type": "stream",
     "text": [
      "Valid\n"
     ]
    }
   ],
   "source": [
    "#Accept User input as a strng raise an error if it does not have # ! or @\n",
    "\n",
    "class NoSpecialCharError(Exception):\n",
    "    \"No Special Char found\"\n",
    "    pass\n",
    "try:\n",
    "    s = input()\n",
    "    if ('!' not in s) & ('@' not in s) & ('#' not in s):\n",
    "        raise NoSpecialCharError\n",
    "    else:\n",
    "        print('Valid')\n",
    "except:\n",
    "    print('Invalid')"
   ]
  },
  {
   "cell_type": "code",
   "execution_count": null,
   "metadata": {},
   "outputs": [],
   "source": []
  }
 ],
 "metadata": {
  "kernelspec": {
   "display_name": "Python 3",
   "language": "python",
   "name": "python3"
  },
  "language_info": {
   "codemirror_mode": {
    "name": "ipython",
    "version": 3
   },
   "file_extension": ".py",
   "mimetype": "text/x-python",
   "name": "python",
   "nbconvert_exporter": "python",
   "pygments_lexer": "ipython3",
   "version": "3.12.1"
  }
 },
 "nbformat": 4,
 "nbformat_minor": 2
}
