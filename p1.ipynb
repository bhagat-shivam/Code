{
 "cells": [
  {
   "cell_type": "code",
   "execution_count": 6,
   "metadata": {},
   "outputs": [
    {
     "name": "stdout",
     "output_type": "stream",
     "text": [
      "4\n",
      "[1, 2, 3]\n",
      "IndexError\n"
     ]
    }
   ],
   "source": [
    "try:\n",
    "    print(int(input())+int(input()))\n",
    "    l = [1,2,3]\n",
    "    print(l)\n",
    "    print(l[3])\n",
    "except ValueError:\n",
    "    print('ValueError')\n",
    "except IndexError:\n",
    "    print('IndexError')\n",
    "    "
   ]
  },
  {
   "cell_type": "code",
   "execution_count": 12,
   "metadata": {},
   "outputs": [
    {
     "name": "stdout",
     "output_type": "stream",
     "text": [
      "1\n",
      "ValueError inside 2nd try\n"
     ]
    }
   ],
   "source": [
    "try:\n",
    "    print(int(input()))\n",
    "    try:\n",
    "        print(float(input()))\n",
    "    except ValueError:\n",
    "        print(\"ValueError inside 2nd try\")\n",
    "except ValueError:\n",
    "    print(\"ValueError inside 1st Try\")"
   ]
  },
  {
   "cell_type": "code",
   "execution_count": 16,
   "metadata": {},
   "outputs": [
    {
     "name": "stdout",
     "output_type": "stream",
     "text": [
      "Int Conversion faliure\n",
      "Float Conversion faliure\n"
     ]
    }
   ],
   "source": [
    "try:\n",
    "    n = input()\n",
    "    n1 = int(n)\n",
    "    print(n1)\n",
    "except ValueError:\n",
    "    print(\"Int Conversion faliure\")\n",
    "    try:\n",
    "        n2 = float(n)\n",
    "        print(n2)\n",
    "    except ValueError:\n",
    "        print(\"Float Conversion faliure\")"
   ]
  },
  {
   "cell_type": "code",
   "execution_count": 5,
   "metadata": {},
   "outputs": [
    {
     "name": "stdout",
     "output_type": "stream",
     "text": [
      "unsupported operand type(s) for +: 'int' and 'str'\n"
     ]
    }
   ],
   "source": [
    "x = 5\n",
    "y = 'hello'\n",
    "try:\n",
    "    z = x+y\n",
    "except Exception  as e:\n",
    "    print(e)"
   ]
  },
  {
   "cell_type": "code",
   "execution_count": 7,
   "metadata": {},
   "outputs": [
    {
     "name": "stdout",
     "output_type": "stream",
     "text": [
      "unsupported operand type(s) for +: 'int' and 'str'\n",
      "<class 'TypeError'>\n"
     ]
    }
   ],
   "source": [
    "import traceback\n",
    "x = 5\n",
    "y = 'hello'\n",
    "try:\n",
    "    z = x+y\n",
    "except Exception  as e:\n",
    "    print(e)\n",
    "    #traceback.print_exc()\n",
    "    print(type(e))"
   ]
  },
  {
   "cell_type": "code",
   "execution_count": 12,
   "metadata": {},
   "outputs": [
    {
     "name": "stdout",
     "output_type": "stream",
     "text": [
      "division by zero\n",
      "Error 2\n"
     ]
    }
   ],
   "source": [
    "try:\n",
    "    print(10/0)\n",
    "except ArithmeticError as e:\n",
    "    print(e)\n",
    "    print(\"Error 2\")\n",
    "except ZeroDivisionError as e:\n",
    "    print(\"Error 1\")\n",
    "    print(e)\n"
   ]
  },
  {
   "cell_type": "code",
   "execution_count": 13,
   "metadata": {},
   "outputs": [
    {
     "name": "stdout",
     "output_type": "stream",
     "text": [
      "Error 1\n",
      "division by zero\n"
     ]
    }
   ],
   "source": [
    "try:\n",
    "    print(10/0)\n",
    "except ValueError as e:\n",
    "    print(e)\n",
    "    print(\"Error 2\")\n",
    "except ZeroDivisionError as e:\n",
    "    print(\"Error 1\")\n",
    "    print(e)\n"
   ]
  },
  {
   "cell_type": "code",
   "execution_count": 21,
   "metadata": {},
   "outputs": [
    {
     "name": "stdout",
     "output_type": "stream",
     "text": [
      "0.011363636363636364\n"
     ]
    }
   ],
   "source": [
    "try:\n",
    "    num = int(input())\n",
    "    assert num%2 == 0\n",
    "except:\n",
    "    print('Not an even Number')\n",
    "else:\n",
    "    reciprocal = 1/num\n",
    "    print(reciprocal)"
   ]
  },
  {
   "cell_type": "code",
   "execution_count": 23,
   "metadata": {},
   "outputs": [
    {
     "name": "stdout",
     "output_type": "stream",
     "text": [
      "Error!\n",
      "invalid literal for int() with base 10: 'a'\n"
     ]
    }
   ],
   "source": [
    "try:\n",
    "    n = int(input()) #ValueError\n",
    "    print(n)\n",
    "except ValueError as e:\n",
    "    print(\"Error!\")\n",
    "    print(e)"
   ]
  },
  {
   "cell_type": "code",
   "execution_count": 5,
   "metadata": {},
   "outputs": [
    {
     "name": "stdout",
     "output_type": "stream",
     "text": [
      "Valid\n"
     ]
    }
   ],
   "source": [
    "#Accept User input as a strng raise an error if it does not have # ! or @\n",
    "\n",
    "class NoSpecialCharError(Exception):\n",
    "    \"No Special Char found\"\n",
    "    pass\n",
    "try:\n",
    "    s = input()\n",
    "    if ('!' not in s) & ('@' not in s) & ('#' not in s):\n",
    "        raise NoSpecialCharError\n",
    "    else:\n",
    "        print('Valid')\n",
    "except:\n",
    "    print('Invalid')"
   ]
  },
  {
   "cell_type": "code",
   "execution_count": 13,
   "metadata": {},
   "outputs": [
    {
     "name": "stdout",
     "output_type": "stream",
     "text": [
      "Invalid input\n"
     ]
    }
   ],
   "source": [
    "class NegetiveError(Exception):\n",
    "    'Only Positive Values'\n",
    "    pass\n",
    "def fact(n):\n",
    "    if n==0 or n==1:\n",
    "        return 1\n",
    "    else:\n",
    "        return n*fact(n-1)\n",
    "try:\n",
    "    n = int(input())#ValueError\n",
    "    if n<0:\n",
    "        raise NegetiveError('Invalid input')\n",
    "    else:\n",
    "        print(fact(n))\n",
    "except Exception as e:\n",
    "    print(e)"
   ]
  },
  {
   "cell_type": "code",
   "execution_count": 10,
   "metadata": {},
   "outputs": [
    {
     "data": {
      "text/plain": [
       "['__cause__',\n",
       " '__class__',\n",
       " '__context__',\n",
       " '__delattr__',\n",
       " '__dict__',\n",
       " '__dir__',\n",
       " '__doc__',\n",
       " '__eq__',\n",
       " '__format__',\n",
       " '__ge__',\n",
       " '__getattribute__',\n",
       " '__getstate__',\n",
       " '__gt__',\n",
       " '__hash__',\n",
       " '__init__',\n",
       " '__init_subclass__',\n",
       " '__le__',\n",
       " '__lt__',\n",
       " '__ne__',\n",
       " '__new__',\n",
       " '__reduce__',\n",
       " '__reduce_ex__',\n",
       " '__repr__',\n",
       " '__setattr__',\n",
       " '__setstate__',\n",
       " '__sizeof__',\n",
       " '__str__',\n",
       " '__subclasshook__',\n",
       " '__suppress_context__',\n",
       " '__traceback__',\n",
       " 'add_note',\n",
       " 'args',\n",
       " 'with_traceback']"
      ]
     },
     "execution_count": 10,
     "metadata": {},
     "output_type": "execute_result"
    }
   ],
   "source": [
    "dir(Exception)"
   ]
  },
  {
   "cell_type": "code",
   "execution_count": 14,
   "metadata": {},
   "outputs": [],
   "source": [
    "import Package"
   ]
  },
  {
   "cell_type": "code",
   "execution_count": 15,
   "metadata": {},
   "outputs": [
    {
     "name": "stdout",
     "output_type": "stream",
     "text": [
      "BMW X5 2023\n",
      "BMW i7 2023\n",
      "600kwh\n"
     ]
    }
   ],
   "source": [
    "car = Package.Car('BMW','X5',2023)\n",
    "ev = Package.Ev(\"BMW\",\"i7\",2023,\"600kwh\")\n",
    "car.disp()\n",
    "ev.disp()"
   ]
  },
  {
   "cell_type": "code",
   "execution_count": 16,
   "metadata": {},
   "outputs": [
    {
     "name": "stdout",
     "output_type": "stream",
     "text": [
      "BMW i7 2023\n",
      "600wh 400\n"
     ]
    }
   ],
   "source": [
    "from Package import Car\n",
    "class Ev(Car):\n",
    "    def __init__(s,b,m,y,battery,r):\n",
    "        super().__init__(b,m,y)\n",
    "        s.battery = battery\n",
    "        s.r = r\n",
    "    def disp(s):\n",
    "        super().disp()\n",
    "        print(s.battery,s.r)\n",
    "ev1 = Ev('BMW','i7',2023,'600wh',400)\n",
    "ev1.disp()\n",
    "\n",
    "\n"
   ]
  },
  {
   "cell_type": "code",
   "execution_count": 17,
   "metadata": {},
   "outputs": [
    {
     "name": "stdout",
     "output_type": "stream",
     "text": [
      "BMW M5 2024\n",
      "Merc EQS 2022\n",
      "400kwh\n"
     ]
    }
   ],
   "source": [
    "#to import the contents of the file\n",
    "from Package import *\n",
    "car = Car(\"BMW\",\"M5\",2024)\n",
    "ev = Ev(\"Merc\",'EQS',2022,\"400kwh\")\n",
    "car.disp()\n",
    "ev.disp()"
   ]
  },
  {
   "cell_type": "code",
   "execution_count": 18,
   "metadata": {},
   "outputs": [],
   "source": [
    "import random\n",
    "random.seed(1)"
   ]
  },
  {
   "cell_type": "code",
   "execution_count": 19,
   "metadata": {},
   "outputs": [],
   "source": [
    "from random import *\n",
    "seed(1)"
   ]
  },
  {
   "cell_type": "code",
   "execution_count": 20,
   "metadata": {},
   "outputs": [],
   "source": [
    "#Package name should start with Capital Letter\n",
    "import Aa"
   ]
  },
  {
   "cell_type": "code",
   "execution_count": 22,
   "metadata": {},
   "outputs": [
    {
     "name": "stdout",
     "output_type": "stream",
     "text": [
      "Toyota Camry 2020\n"
     ]
    }
   ],
   "source": [
    "car = Car(\"Toyota\",\"Camry\",2020)\n",
    "car.disp()"
   ]
  },
  {
   "cell_type": "code",
   "execution_count": null,
   "metadata": {},
   "outputs": [],
   "source": []
  }
 ],
 "metadata": {
  "kernelspec": {
   "display_name": "Python 3",
   "language": "python",
   "name": "python3"
  },
  "language_info": {
   "codemirror_mode": {
    "name": "ipython",
    "version": 3
   },
   "file_extension": ".py",
   "mimetype": "text/x-python",
   "name": "python",
   "nbconvert_exporter": "python",
   "pygments_lexer": "ipython3",
   "version": "3.12.1"
  }
 },
 "nbformat": 4,
 "nbformat_minor": 2
}
